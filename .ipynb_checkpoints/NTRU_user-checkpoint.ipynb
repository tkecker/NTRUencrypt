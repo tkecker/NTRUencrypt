{
 "cells": [
  {
   "cell_type": "code",
   "execution_count": 4,
   "metadata": {},
   "outputs": [
    {
     "name": "stdout",
     "output_type": "stream",
     "text": [
      "Hello Bob, how are you? Meet me in the park tonight. I will hand over the cash.                                   \n"
     ]
    }
   ],
   "source": [
    "import NTRU_user as ntru\n",
    "# Bob creates an NTRU_user and publishes his public key in public_key.csv\n",
    "bob = ntru.NTRU_user('Bob',19,65537,2359333,8)\n",
    "bob.output_public_key('public_key.csv')\n",
    "# Alice creates an NTRU_user for herself and a public version of Bob to send him a message\n",
    "alice = ntru.NTRU_user('Alice',19,65537,2359333,8)\n",
    "public_bob = ntru.NTRU_user.init_user('public_key.csv',public=True)\n",
    "plaintext = \"Hello Bob, how are you? Meet me in the park tonight. I will hand over the cash.\"\n",
    "p_array = alice.send(plaintext,public_bob)\n",
    "# Bob receives Alice's message\n",
    "mes = bob.receive('encrypted.csv')\n",
    "print(mes)"
   ]
  },
  {
   "cell_type": "code",
   "execution_count": null,
   "metadata": {},
   "outputs": [],
   "source": []
  }
 ],
 "metadata": {
  "kernelspec": {
   "display_name": "Python 3",
   "language": "python",
   "name": "python3"
  },
  "language_info": {
   "codemirror_mode": {
    "name": "ipython",
    "version": 3
   },
   "file_extension": ".py",
   "mimetype": "text/x-python",
   "name": "python",
   "nbconvert_exporter": "python",
   "pygments_lexer": "ipython3",
   "version": "3.7.1"
  }
 },
 "nbformat": 4,
 "nbformat_minor": 2
}
